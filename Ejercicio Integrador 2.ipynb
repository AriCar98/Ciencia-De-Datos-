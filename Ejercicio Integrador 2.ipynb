{
  "nbformat": 4,
  "nbformat_minor": 0,
  "metadata": {
    "colab": {
      "name": "Untitled5.ipynb",
      "provenance": [],
      "collapsed_sections": [],
      "authorship_tag": "ABX9TyONEJpfk6lZ1jXcScPR7qoD",
      "include_colab_link": true
    },
    "kernelspec": {
      "name": "python3",
      "display_name": "Python 3"
    },
    "language_info": {
      "name": "python"
    }
  },
  "cells": [
    {
      "cell_type": "markdown",
      "metadata": {
        "id": "view-in-github",
        "colab_type": "text"
      },
      "source": [
        "<a href=\"https://colab.research.google.com/github/AriCar98/Ciencia-De-Datos-/blob/main/Ejercicio%20Integrador%202.ipynb\" target=\"_parent\"><img src=\"https://colab.research.google.com/assets/colab-badge.svg\" alt=\"Open In Colab\"/></a>"
      ]
    },
    {
      "cell_type": "markdown",
      "metadata": {
        "id": "uJiC7WA6cJ4L"
      },
      "source": [
        "# Ejercicio 2"
      ]
    },
    {
      "cell_type": "markdown",
      "metadata": {
        "id": "2U8cGIOfcMnt"
      },
      "source": [
        "Función"
      ]
    },
    {
      "cell_type": "code",
      "metadata": {
        "colab": {
          "base_uri": "https://localhost:8080/"
        },
        "id": "shYiSlCucJGM",
        "outputId": "acac186c-c8fe-4a7d-d7ab-aa435d24dd25"
      },
      "source": [
        "def CalculoIMC(peso,altura):\n",
        "  pesoConvertido = peso*0.453592\n",
        "  print(pesoConvertido)\n",
        "  alturaConvertida = altura*0.0254\n",
        "  print(alturaConvertida)\n",
        "  resultado = pesoConvertido / (alturaConvertida**2)\n",
        "  return resultado\n",
        "\n",
        "print(CalculoIMC(112.9925, 65.78331))"
      ],
      "execution_count": 5,
      "outputs": [
        {
          "output_type": "stream",
          "name": "stdout",
          "text": [
            "51.252494060000004\n",
            "1.6708960739999998\n",
            "18.35760947545468\n"
          ]
        }
      ]
    },
    {
      "cell_type": "markdown",
      "metadata": {
        "id": "hh9UAYEOcMxH"
      },
      "source": [
        "Función Lambda"
      ]
    },
    {
      "cell_type": "code",
      "metadata": {
        "colab": {
          "base_uri": "https://localhost:8080/"
        },
        "id": "WTkqlnWYcXnw",
        "outputId": "647bc17d-56fb-4925-aaad-d37dc520b228"
      },
      "source": [
        "(lambda peso,altura: (peso*0.45359)/((altura*0.0254)**2))(112.9925, 65.78331) "
      ],
      "execution_count": 6,
      "outputs": [
        {
          "output_type": "execute_result",
          "data": {
            "text/plain": [
              "18.35752853218639"
            ]
          },
          "metadata": {},
          "execution_count": 6
        }
      ]
    }
  ]
}