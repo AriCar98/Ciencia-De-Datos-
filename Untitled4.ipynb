{
  "nbformat": 4,
  "nbformat_minor": 0,
  "metadata": {
    "colab": {
      "name": "Untitled4.ipynb",
      "provenance": [],
      "collapsed_sections": [],
      "authorship_tag": "ABX9TyNweq7dwBlUqoQGy2ngzjnS",
      "include_colab_link": true
    },
    "kernelspec": {
      "name": "python3",
      "display_name": "Python 3"
    },
    "language_info": {
      "name": "python"
    }
  },
  "cells": [
    {
      "cell_type": "markdown",
      "metadata": {
        "id": "view-in-github",
        "colab_type": "text"
      },
      "source": [
        "<a href=\"https://colab.research.google.com/github/AriCar98/Ciencia-De-Datos-/blob/main/Untitled4.ipynb\" target=\"_parent\"><img src=\"https://colab.research.google.com/assets/colab-badge.svg\" alt=\"Open In Colab\"/></a>"
      ]
    },
    {
      "cell_type": "markdown",
      "metadata": {
        "id": "O4Vp0Pha2cFl"
      },
      "source": [
        "# Ejercicio 1"
      ]
    },
    {
      "cell_type": "code",
      "metadata": {
        "id": "y-FAfjN02tlN"
      },
      "source": [
        "import pandas as pd\n",
        "\n",
        "Lista_pagos = [100, 300, 400, 500, 6000, 8000, 2012, 1231, 23, 20, 100, 100, 4000, 300, 500, 500, 600, 200, 200, 8000]"
      ],
      "execution_count": 2,
      "outputs": []
    },
    {
      "cell_type": "markdown",
      "metadata": {
        "id": "K4XN-EwX2mDA"
      },
      "source": [
        "Punto 1\n"
      ]
    },
    {
      "cell_type": "code",
      "metadata": {
        "colab": {
          "base_uri": "https://localhost:8080/"
        },
        "id": "LeC11iyt2RBT",
        "outputId": "f4e444e1-a0fa-4bfe-ba5f-a2c7d7739468"
      },
      "source": [
        "cant_pagos = len(Lista_pagos)\n",
        "print(cant_pagos)"
      ],
      "execution_count": 4,
      "outputs": [
        {
          "output_type": "stream",
          "name": "stdout",
          "text": [
            "20\n"
          ]
        }
      ]
    },
    {
      "cell_type": "markdown",
      "metadata": {
        "id": "LS-cFTtG3dq0"
      },
      "source": [
        "Punto 2"
      ]
    },
    {
      "cell_type": "code",
      "metadata": {
        "colab": {
          "base_uri": "https://localhost:8080/"
        },
        "id": "ZzEwCJi73f7V",
        "outputId": "4ca1e463-2ccb-402f-b9db-7e83af5228e6"
      },
      "source": [
        "#primera forma:\n",
        "valores_unicos = []\n",
        "[valores_unicos.append(pago) for pago in Lista_pagos if pago not in valores_unicos]\n",
        "print(valores_unicos)\n",
        "\n",
        "#segunda forma\n",
        "valores_unicos = list(set(Lista_pagos))\n",
        "print(valores_unicos)"
      ],
      "execution_count": 8,
      "outputs": [
        {
          "output_type": "stream",
          "name": "stdout",
          "text": [
            "[100, 300, 400, 500, 6000, 8000, 2012, 1231, 23, 20, 4000, 600, 200]\n",
            "[8000, 4000, 100, 200, 300, 1231, 400, 6000, 500, 20, 23, 600, 2012]\n"
          ]
        }
      ]
    },
    {
      "cell_type": "markdown",
      "metadata": {
        "id": "kv3M3rWA6a6a"
      },
      "source": [
        "Punto 3"
      ]
    },
    {
      "cell_type": "code",
      "metadata": {
        "colab": {
          "base_uri": "https://localhost:8080/"
        },
        "id": "2o0PKMbJ6cjJ",
        "outputId": "a1d556e7-e8f2-47b8-d0ee-7ceab2840edb"
      },
      "source": [
        "#ordenar lista pagos únicos\n",
        "valores_unicos.sort()\n",
        "print(valores_unicos)\n",
        "\n",
        "#ordenar lista pagos completa\n",
        "Lista_pagos.sort()\n",
        "print(Lista_pagos)"
      ],
      "execution_count": 13,
      "outputs": [
        {
          "output_type": "stream",
          "name": "stdout",
          "text": [
            "[20, 23, 100, 200, 300, 400, 500, 600, 1231, 2012, 4000, 6000, 8000]\n",
            "[20, 23, 100, 100, 100, 200, 200, 300, 300, 400, 500, 500, 500, 600, 1231, 2012, 4000, 6000, 8000, 8000]\n"
          ]
        }
      ]
    },
    {
      "cell_type": "markdown",
      "metadata": {
        "id": "yCw8JwMA7K9p"
      },
      "source": [
        "Punto 4"
      ]
    },
    {
      "cell_type": "code",
      "metadata": {
        "colab": {
          "base_uri": "https://localhost:8080/"
        },
        "id": "kOOmtHA07L9I",
        "outputId": "8098213f-aea9-43e3-c427-a74d5f728211"
      },
      "source": [
        "print(\"Mínimo: \")\n",
        "print(min(valores_unicos))\n",
        "print(\"Máximo: \")\n",
        "print(max(valores_unicos))"
      ],
      "execution_count": 16,
      "outputs": [
        {
          "output_type": "stream",
          "name": "stdout",
          "text": [
            "Mínimo: \n",
            "20\n",
            "Máximo: \n",
            "8000\n"
          ]
        }
      ]
    },
    {
      "cell_type": "markdown",
      "metadata": {
        "id": "WQE-7KlN7dt1"
      },
      "source": [
        "Punto 5"
      ]
    },
    {
      "cell_type": "code",
      "metadata": {
        "colab": {
          "base_uri": "https://localhost:8080/"
        },
        "id": "OcmaszJV7gVa",
        "outputId": "f2157e7a-0727-49f7-e2e5-560b9b57e24e"
      },
      "source": [
        "#primera forma:\n",
        "comision = []\n",
        "[comision.append(pago*0.012) for pago in Lista_pagos]\n",
        "print(comision)\n"
      ],
      "execution_count": 24,
      "outputs": [
        {
          "output_type": "stream",
          "name": "stdout",
          "text": [
            "[0.24, 0.276, 1.2, 1.2, 1.2, 2.4, 2.4, 3.6, 3.6, 4.8, 6.0, 6.0, 6.0, 7.2, 14.772, 24.144000000000002, 48.0, 72.0, 96.0, 96.0]\n"
          ]
        }
      ]
    },
    {
      "cell_type": "markdown",
      "metadata": {
        "id": "D_7s-xAF9mbG"
      },
      "source": [
        "Punto 6"
      ]
    },
    {
      "cell_type": "code",
      "metadata": {
        "id": "4YuRT3xX9n6d"
      },
      "source": [
        ""
      ],
      "execution_count": null,
      "outputs": []
    }
  ]
}